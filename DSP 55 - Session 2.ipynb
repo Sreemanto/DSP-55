{
 "cells": [
  {
   "cell_type": "code",
   "execution_count": null,
   "metadata": {},
   "outputs": [],
   "source": [
    "Lists\n",
    "Dictionaries\n",
    "Tuples\n",
    "Functions\n",
    "Class"
   ]
  },
  {
   "cell_type": "markdown",
   "metadata": {},
   "source": [
    "#### Lists"
   ]
  },
  {
   "cell_type": "code",
   "execution_count": 1,
   "metadata": {},
   "outputs": [],
   "source": [
    "l1 = []"
   ]
  },
  {
   "cell_type": "code",
   "execution_count": 2,
   "metadata": {
    "scrolled": true
   },
   "outputs": [
    {
     "data": {
      "text/plain": [
       "list"
      ]
     },
     "execution_count": 2,
     "metadata": {},
     "output_type": "execute_result"
    }
   ],
   "source": [
    "type(l1)"
   ]
  },
  {
   "cell_type": "code",
   "execution_count": 3,
   "metadata": {},
   "outputs": [],
   "source": [
    "l1 = ['Sreemanto','Jay',139,15.1]"
   ]
  },
  {
   "cell_type": "code",
   "execution_count": 4,
   "metadata": {},
   "outputs": [],
   "source": [
    "#add a new element in the list\n",
    "l1.append('Tejas')"
   ]
  },
  {
   "cell_type": "code",
   "execution_count": 5,
   "metadata": {
    "scrolled": true
   },
   "outputs": [
    {
     "data": {
      "text/plain": [
       "['Sreemanto', 'Jay', 139, 15.1, 'Tejas']"
      ]
     },
     "execution_count": 5,
     "metadata": {},
     "output_type": "execute_result"
    }
   ],
   "source": [
    "l1"
   ]
  },
  {
   "cell_type": "code",
   "execution_count": 6,
   "metadata": {},
   "outputs": [],
   "source": [
    "#append - appends one element at a time\n",
    "l1.extend([100,200])"
   ]
  },
  {
   "cell_type": "code",
   "execution_count": 7,
   "metadata": {},
   "outputs": [
    {
     "data": {
      "text/plain": [
       "['Sreemanto', 'Jay', 139, 15.1, 'Tejas', 100, 200]"
      ]
     },
     "execution_count": 7,
     "metadata": {},
     "output_type": "execute_result"
    }
   ],
   "source": [
    "l1"
   ]
  },
  {
   "cell_type": "code",
   "execution_count": 8,
   "metadata": {
    "collapsed": true
   },
   "outputs": [
    {
     "ename": "TypeError",
     "evalue": "append() takes exactly one argument (2 given)",
     "output_type": "error",
     "traceback": [
      "\u001b[1;31m---------------------------------------------------------------------------\u001b[0m",
      "\u001b[1;31mTypeError\u001b[0m                                 Traceback (most recent call last)",
      "\u001b[1;32m<ipython-input-8-3b8a8b7b49ef>\u001b[0m in \u001b[0;36m<module>\u001b[1;34m\u001b[0m\n\u001b[1;32m----> 1\u001b[1;33m \u001b[0ml1\u001b[0m\u001b[1;33m.\u001b[0m\u001b[0mappend\u001b[0m\u001b[1;33m(\u001b[0m\u001b[1;36m100\u001b[0m\u001b[1;33m,\u001b[0m\u001b[1;36m200\u001b[0m\u001b[1;33m)\u001b[0m\u001b[1;33m\u001b[0m\u001b[1;33m\u001b[0m\u001b[0m\n\u001b[0m",
      "\u001b[1;31mTypeError\u001b[0m: append() takes exactly one argument (2 given)"
     ]
    }
   ],
   "source": [
    "l1.append(100,200)"
   ]
  },
  {
   "cell_type": "code",
   "execution_count": null,
   "metadata": {},
   "outputs": [],
   "source": [
    "l1"
   ]
  },
  {
   "cell_type": "code",
   "execution_count": 9,
   "metadata": {},
   "outputs": [
    {
     "data": {
      "text/plain": [
       "'Sreemanto'"
      ]
     },
     "execution_count": 9,
     "metadata": {},
     "output_type": "execute_result"
    }
   ],
   "source": [
    "l1[0]"
   ]
  },
  {
   "cell_type": "code",
   "execution_count": 10,
   "metadata": {},
   "outputs": [
    {
     "data": {
      "text/plain": [
       "'Jay'"
      ]
     },
     "execution_count": 10,
     "metadata": {},
     "output_type": "execute_result"
    }
   ],
   "source": [
    "l1[1]"
   ]
  },
  {
   "cell_type": "code",
   "execution_count": 11,
   "metadata": {},
   "outputs": [
    {
     "data": {
      "text/plain": [
       "200"
      ]
     },
     "execution_count": 11,
     "metadata": {},
     "output_type": "execute_result"
    }
   ],
   "source": [
    "l1[-1]"
   ]
  },
  {
   "cell_type": "code",
   "execution_count": 12,
   "metadata": {},
   "outputs": [],
   "source": [
    "l2 = [123,39,45]"
   ]
  },
  {
   "cell_type": "code",
   "execution_count": 13,
   "metadata": {},
   "outputs": [],
   "source": [
    "l2.sort()"
   ]
  },
  {
   "cell_type": "code",
   "execution_count": 14,
   "metadata": {},
   "outputs": [
    {
     "data": {
      "text/plain": [
       "[39, 45, 123]"
      ]
     },
     "execution_count": 14,
     "metadata": {},
     "output_type": "execute_result"
    }
   ],
   "source": [
    "l2"
   ]
  },
  {
   "cell_type": "code",
   "execution_count": 15,
   "metadata": {},
   "outputs": [],
   "source": [
    "l2.reverse()"
   ]
  },
  {
   "cell_type": "code",
   "execution_count": 16,
   "metadata": {},
   "outputs": [
    {
     "data": {
      "text/plain": [
       "[123, 45, 39]"
      ]
     },
     "execution_count": 16,
     "metadata": {},
     "output_type": "execute_result"
    }
   ],
   "source": [
    "l2"
   ]
  },
  {
   "cell_type": "code",
   "execution_count": 17,
   "metadata": {},
   "outputs": [],
   "source": [
    "l3 = ['Tejas','Sree','Yash']"
   ]
  },
  {
   "cell_type": "code",
   "execution_count": 18,
   "metadata": {},
   "outputs": [],
   "source": [
    "l3.sort()"
   ]
  },
  {
   "cell_type": "code",
   "execution_count": 19,
   "metadata": {},
   "outputs": [
    {
     "data": {
      "text/plain": [
       "['Sree', 'Tejas', 'Yash']"
      ]
     },
     "execution_count": 19,
     "metadata": {},
     "output_type": "execute_result"
    }
   ],
   "source": [
    "l3"
   ]
  },
  {
   "cell_type": "code",
   "execution_count": 20,
   "metadata": {},
   "outputs": [],
   "source": [
    "l4 = [[121,'Sree',5.5],[122,'Jay',3.1],[123,'Tarun',2.1]]"
   ]
  },
  {
   "cell_type": "code",
   "execution_count": 22,
   "metadata": {
    "scrolled": false
   },
   "outputs": [
    {
     "data": {
      "text/plain": [
       "[122, 'Jay', 3.1]"
      ]
     },
     "execution_count": 22,
     "metadata": {},
     "output_type": "execute_result"
    }
   ],
   "source": [
    "l4[1]"
   ]
  },
  {
   "cell_type": "code",
   "execution_count": 23,
   "metadata": {},
   "outputs": [
    {
     "data": {
      "text/plain": [
       "3.1"
      ]
     },
     "execution_count": 23,
     "metadata": {},
     "output_type": "execute_result"
    }
   ],
   "source": [
    "l4[1][2]"
   ]
  },
  {
   "cell_type": "code",
   "execution_count": 27,
   "metadata": {},
   "outputs": [
    {
     "name": "stdout",
     "output_type": "stream",
     "text": [
      "Sree\n",
      "Jay\n",
      "Tarun\n"
     ]
    }
   ],
   "source": [
    "names = []\n",
    "\n",
    "for i in l4:\n",
    "    print(i[1])\n",
    "    names.append(i[1])"
   ]
  },
  {
   "cell_type": "code",
   "execution_count": 28,
   "metadata": {},
   "outputs": [
    {
     "data": {
      "text/plain": [
       "['Sree', 'Jay', 'Tarun']"
      ]
     },
     "execution_count": 28,
     "metadata": {},
     "output_type": "execute_result"
    }
   ],
   "source": [
    "names"
   ]
  },
  {
   "cell_type": "code",
   "execution_count": 29,
   "metadata": {},
   "outputs": [
    {
     "data": {
      "text/plain": [
       "[121, 'Sree', 5.5]"
      ]
     },
     "execution_count": 29,
     "metadata": {},
     "output_type": "execute_result"
    }
   ],
   "source": [
    "l4.pop(0)"
   ]
  },
  {
   "cell_type": "code",
   "execution_count": 30,
   "metadata": {},
   "outputs": [
    {
     "data": {
      "text/plain": [
       "[[122, 'Jay', 3.1], [123, 'Tarun', 2.1]]"
      ]
     },
     "execution_count": 30,
     "metadata": {},
     "output_type": "execute_result"
    }
   ],
   "source": [
    "l4"
   ]
  },
  {
   "cell_type": "code",
   "execution_count": 31,
   "metadata": {},
   "outputs": [],
   "source": [
    "a = l4.pop(1)"
   ]
  },
  {
   "cell_type": "code",
   "execution_count": 32,
   "metadata": {},
   "outputs": [
    {
     "data": {
      "text/plain": [
       "[123, 'Tarun', 2.1]"
      ]
     },
     "execution_count": 32,
     "metadata": {},
     "output_type": "execute_result"
    }
   ],
   "source": [
    "a"
   ]
  },
  {
   "cell_type": "code",
   "execution_count": 33,
   "metadata": {},
   "outputs": [],
   "source": [
    "a.remove('Tarun')"
   ]
  },
  {
   "cell_type": "code",
   "execution_count": 34,
   "metadata": {},
   "outputs": [
    {
     "data": {
      "text/plain": [
       "[123, 2.1]"
      ]
     },
     "execution_count": 34,
     "metadata": {},
     "output_type": "execute_result"
    }
   ],
   "source": [
    "a"
   ]
  },
  {
   "cell_type": "markdown",
   "metadata": {},
   "source": [
    "#### List Comprehensions"
   ]
  },
  {
   "cell_type": "code",
   "execution_count": 37,
   "metadata": {},
   "outputs": [
    {
     "data": {
      "text/plain": [
       "[0, 1, 4, 9, 16, 25, 36, 49, 64, 81]"
      ]
     },
     "execution_count": 37,
     "metadata": {},
     "output_type": "execute_result"
    }
   ],
   "source": [
    "squares = []\n",
    "for i in range(10):\n",
    "    squares.append(i*i)\n",
    "squares"
   ]
  },
  {
   "cell_type": "code",
   "execution_count": 38,
   "metadata": {},
   "outputs": [],
   "source": [
    "sq = [i*i for i in range(10)]"
   ]
  },
  {
   "cell_type": "code",
   "execution_count": 39,
   "metadata": {},
   "outputs": [
    {
     "data": {
      "text/plain": [
       "[0, 1, 4, 9, 16, 25, 36, 49, 64, 81]"
      ]
     },
     "execution_count": 39,
     "metadata": {},
     "output_type": "execute_result"
    }
   ],
   "source": [
    "sq"
   ]
  },
  {
   "cell_type": "code",
   "execution_count": 40,
   "metadata": {},
   "outputs": [],
   "source": [
    "bank_statements = [100,-1000,500,-5000,300]"
   ]
  },
  {
   "cell_type": "code",
   "execution_count": 41,
   "metadata": {},
   "outputs": [
    {
     "data": {
      "text/plain": [
       "[100, 500, 300]"
      ]
     },
     "execution_count": 41,
     "metadata": {},
     "output_type": "execute_result"
    }
   ],
   "source": [
    "credits = [i for i in bank_statements if i > 0]\n",
    "credits"
   ]
  },
  {
   "cell_type": "code",
   "execution_count": 42,
   "metadata": {},
   "outputs": [
    {
     "data": {
      "text/plain": [
       "[-1000, -5000]"
      ]
     },
     "execution_count": 42,
     "metadata": {},
     "output_type": "execute_result"
    }
   ],
   "source": [
    "debits = [i for i in bank_statements if i < 0]\n",
    "debits"
   ]
  },
  {
   "cell_type": "code",
   "execution_count": null,
   "metadata": {},
   "outputs": [],
   "source": []
  },
  {
   "cell_type": "markdown",
   "metadata": {},
   "source": [
    "#### Tuples"
   ]
  },
  {
   "cell_type": "code",
   "execution_count": 43,
   "metadata": {},
   "outputs": [],
   "source": [
    "t1 = ('name',12,5.1)"
   ]
  },
  {
   "cell_type": "code",
   "execution_count": 44,
   "metadata": {},
   "outputs": [
    {
     "data": {
      "text/plain": [
       "tuple"
      ]
     },
     "execution_count": 44,
     "metadata": {},
     "output_type": "execute_result"
    }
   ],
   "source": [
    "type(t1)"
   ]
  },
  {
   "cell_type": "code",
   "execution_count": 45,
   "metadata": {},
   "outputs": [
    {
     "data": {
      "text/plain": [
       "'name'"
      ]
     },
     "execution_count": 45,
     "metadata": {},
     "output_type": "execute_result"
    }
   ],
   "source": [
    "t1[0]"
   ]
  },
  {
   "cell_type": "markdown",
   "metadata": {},
   "source": [
    "#### Dictionaries"
   ]
  },
  {
   "cell_type": "code",
   "execution_count": 46,
   "metadata": {},
   "outputs": [],
   "source": [
    "# key value pair\n",
    "# similar to how we see objects in a json file\n",
    "car = {\"Brand\" : 'Hyundai',\n",
    "       \"Model\" : 'I20',\n",
    "       \"Year\" : 2015}"
   ]
  },
  {
   "cell_type": "code",
   "execution_count": 47,
   "metadata": {},
   "outputs": [
    {
     "data": {
      "text/plain": [
       "dict"
      ]
     },
     "execution_count": 47,
     "metadata": {},
     "output_type": "execute_result"
    }
   ],
   "source": [
    "type(car)"
   ]
  },
  {
   "cell_type": "code",
   "execution_count": 48,
   "metadata": {},
   "outputs": [
    {
     "data": {
      "text/plain": [
       "dict_keys(['Brand', 'Model', 'Year'])"
      ]
     },
     "execution_count": 48,
     "metadata": {},
     "output_type": "execute_result"
    }
   ],
   "source": [
    "car.keys()"
   ]
  },
  {
   "cell_type": "code",
   "execution_count": 49,
   "metadata": {},
   "outputs": [
    {
     "data": {
      "text/plain": [
       "dict_values(['Hyundai', 'I20', 2015])"
      ]
     },
     "execution_count": 49,
     "metadata": {},
     "output_type": "execute_result"
    }
   ],
   "source": [
    "car.values()"
   ]
  },
  {
   "cell_type": "code",
   "execution_count": 50,
   "metadata": {
    "scrolled": true
   },
   "outputs": [
    {
     "data": {
      "text/plain": [
       "dict_items([('Brand', 'Hyundai'), ('Model', 'I20'), ('Year', 2015)])"
      ]
     },
     "execution_count": 50,
     "metadata": {},
     "output_type": "execute_result"
    }
   ],
   "source": [
    "car.items() #fethes key and value pairs in a tuple format"
   ]
  },
  {
   "cell_type": "code",
   "execution_count": 51,
   "metadata": {
    "collapsed": true
   },
   "outputs": [
    {
     "data": {
      "text/plain": [
       "'I20'"
      ]
     },
     "execution_count": 51,
     "metadata": {},
     "output_type": "execute_result"
    }
   ],
   "source": [
    "#How do you acces an element in a doctionary\n",
    "car['Model']"
   ]
  },
  {
   "cell_type": "code",
   "execution_count": 52,
   "metadata": {},
   "outputs": [],
   "source": [
    "#adding a new pair\n",
    "car['Mileage'] = '13Kmpl'"
   ]
  },
  {
   "cell_type": "code",
   "execution_count": 53,
   "metadata": {},
   "outputs": [
    {
     "data": {
      "text/plain": [
       "{'Brand': 'Hyundai', 'Model': 'I20', 'Year': 2015, 'Mileage': '13Kmpl'}"
      ]
     },
     "execution_count": 53,
     "metadata": {},
     "output_type": "execute_result"
    }
   ],
   "source": [
    "car"
   ]
  },
  {
   "cell_type": "code",
   "execution_count": 54,
   "metadata": {},
   "outputs": [
    {
     "data": {
      "text/plain": [
       "4"
      ]
     },
     "execution_count": 54,
     "metadata": {},
     "output_type": "execute_result"
    }
   ],
   "source": [
    "len(car)"
   ]
  },
  {
   "cell_type": "code",
   "execution_count": 59,
   "metadata": {},
   "outputs": [],
   "source": [
    "Emp = {\n",
    "    'ids' : [121,122,123],\n",
    "    'names' : ['Sree','Tejas','Jay'],\n",
    "    'WorkEx' : [1.5,3.2,3.3]\n",
    "}"
   ]
  },
  {
   "cell_type": "code",
   "execution_count": 60,
   "metadata": {
    "collapsed": true
   },
   "outputs": [
    {
     "name": "stdout",
     "output_type": "stream",
     "text": [
      "ids\n",
      "names\n",
      "WorkEx\n"
     ]
    }
   ],
   "source": [
    "for i in Emp.keys():\n",
    "    print(i)"
   ]
  },
  {
   "cell_type": "code",
   "execution_count": 61,
   "metadata": {
    "collapsed": true
   },
   "outputs": [
    {
     "name": "stdout",
     "output_type": "stream",
     "text": [
      "ids\n",
      "names\n",
      "WorkEx\n"
     ]
    }
   ],
   "source": [
    "for i in Emp:\n",
    "    print(i)"
   ]
  },
  {
   "cell_type": "code",
   "execution_count": 62,
   "metadata": {
    "collapsed": true
   },
   "outputs": [
    {
     "name": "stdout",
     "output_type": "stream",
     "text": [
      "ids ----> [121, 122, 123]\n",
      "names ----> ['Sree', 'Tejas', 'Jay']\n",
      "WorkEx ----> [1.5, 3.2, 3.3]\n"
     ]
    }
   ],
   "source": [
    "for i in Emp:\n",
    "    print(i,'---->',Emp[i])"
   ]
  },
  {
   "cell_type": "code",
   "execution_count": 65,
   "metadata": {},
   "outputs": [],
   "source": [
    "#add all the salaries\n",
    "Emp = {\n",
    "        '121' : {\n",
    "                    'name' : 'Sree',\n",
    "                    'WorkEx' : 4.9,\n",
    "                    'Position' : 'AM',\n",
    "                    'Salary' : 700000\n",
    "                },\n",
    "    \n",
    "        '122' : {\n",
    "                    'name' : 'Kunal',\n",
    "                    'WorkEx' : 3.9,\n",
    "                    'Position' : 'SM',\n",
    "                    'Salary' : 900000\n",
    "                },\n",
    "\n",
    "        '123' : {\n",
    "                'name' : 'Rohan',\n",
    "                'WorkEx' : 1.5,\n",
    "                'Position' : 'Con',\n",
    "                'Salary' : 400000\n",
    "                }\n",
    "}"
   ]
  },
  {
   "cell_type": "code",
   "execution_count": 72,
   "metadata": {
    "collapsed": true
   },
   "outputs": [
    {
     "name": "stdout",
     "output_type": "stream",
     "text": [
      "700000\n",
      "900000\n",
      "400000\n"
     ]
    }
   ],
   "source": [
    "sal = 0\n",
    "for i in Emp:\n",
    "    print(Emp[i]['Salary'])\n",
    "    sal = Emp[i]['Salary'] + sal"
   ]
  },
  {
   "cell_type": "code",
   "execution_count": 77,
   "metadata": {},
   "outputs": [
    {
     "data": {
      "text/plain": [
       "2000"
      ]
     },
     "execution_count": 77,
     "metadata": {},
     "output_type": "execute_result"
    }
   ],
   "source": [
    "sal = \"2000\"\n",
    "int(\"2000\")"
   ]
  },
  {
   "cell_type": "code",
   "execution_count": 79,
   "metadata": {},
   "outputs": [],
   "source": [
    "Emp = {\n",
    "    '121' : {\n",
    "        'name' : 'Sree',\n",
    "        'WorkEx' : 4.9,\n",
    "        'Position' : 'AM',\n",
    "        'Salary' : '7lpa'},\n",
    "    \n",
    "        '122' : {\n",
    "        'name' : 'Kunal',\n",
    "        'WorkEx' : 3.9,\n",
    "        'Position' : 'SM',\n",
    "        'Salary' : '9lpa'},\n",
    "\n",
    "        '123' : {\n",
    "        'name' : 'Rohan',\n",
    "        'WorkEx' : 1.5,\n",
    "        'Position' : 'Con',\n",
    "        'Salary' : '18lpa'}\n",
    "}"
   ]
  },
  {
   "cell_type": "code",
   "execution_count": 84,
   "metadata": {
    "collapsed": true
   },
   "outputs": [
    {
     "name": "stdout",
     "output_type": "stream",
     "text": [
      "7lpa\n",
      "9lpa\n",
      "8lpa\n"
     ]
    }
   ],
   "source": [
    "total_salary = 0\n",
    "\n",
    "for i in Emp:\n",
    "    print(Emp[i]['Salary'])\n",
    "    #print(Emp[i]['Salary'][0])    # fetch the first index value\n",
    "    #print(int(Emp[i]['Salary'][0])) # convert this from string to integer\n",
    "    total_salary = int(Emp[i]['Salary'][0]) + total_salary"
   ]
  },
  {
   "cell_type": "code",
   "execution_count": 83,
   "metadata": {},
   "outputs": [
    {
     "data": {
      "text/plain": [
       "24"
      ]
     },
     "execution_count": 83,
     "metadata": {},
     "output_type": "execute_result"
    }
   ],
   "source": [
    "total_salary"
   ]
  },
  {
   "cell_type": "markdown",
   "metadata": {},
   "source": [
    "#### Functions"
   ]
  },
  {
   "cell_type": "code",
   "execution_count": 85,
   "metadata": {},
   "outputs": [
    {
     "name": "stdout",
     "output_type": "stream",
     "text": [
      "Not a part of the function\n"
     ]
    }
   ],
   "source": [
    "def simple():\n",
    "    print('Enterd the function')\n",
    "    print('Simple function')\n",
    "    \n",
    "print('Not a part of the function')"
   ]
  },
  {
   "cell_type": "code",
   "execution_count": 86,
   "metadata": {},
   "outputs": [
    {
     "name": "stdout",
     "output_type": "stream",
     "text": [
      "Enterd the function\n",
      "Simple function\n"
     ]
    }
   ],
   "source": [
    "simple()"
   ]
  },
  {
   "cell_type": "code",
   "execution_count": 87,
   "metadata": {},
   "outputs": [],
   "source": [
    "#function with a parameter\n",
    "def plus_ten(a):\n",
    "    print('Value',a+10)"
   ]
  },
  {
   "cell_type": "code",
   "execution_count": 89,
   "metadata": {},
   "outputs": [
    {
     "name": "stdout",
     "output_type": "stream",
     "text": [
      "Value 100\n"
     ]
    }
   ],
   "source": [
    "plus_ten(90)"
   ]
  },
  {
   "cell_type": "code",
   "execution_count": 99,
   "metadata": {},
   "outputs": [],
   "source": [
    "#function with a parameter and returning a value\n",
    "def plus_ten(a):\n",
    "    \n",
    "    print('Value ',a)    \n",
    "    return a+10"
   ]
  },
  {
   "cell_type": "code",
   "execution_count": 100,
   "metadata": {},
   "outputs": [
    {
     "name": "stdout",
     "output_type": "stream",
     "text": [
      "Value  25\n"
     ]
    },
    {
     "data": {
      "text/plain": [
       "35"
      ]
     },
     "execution_count": 100,
     "metadata": {},
     "output_type": "execute_result"
    }
   ],
   "source": [
    "plus_ten(25)"
   ]
  },
  {
   "cell_type": "code",
   "execution_count": 101,
   "metadata": {},
   "outputs": [
    {
     "name": "stdout",
     "output_type": "stream",
     "text": [
      "Value  25\n"
     ]
    },
    {
     "data": {
      "text/plain": [
       "35"
      ]
     },
     "execution_count": 101,
     "metadata": {},
     "output_type": "execute_result"
    }
   ],
   "source": [
    "val = plus_ten(25)\n",
    "val"
   ]
  },
  {
   "cell_type": "code",
   "execution_count": 102,
   "metadata": {},
   "outputs": [],
   "source": [
    "def minus_ten(a):\n",
    "    print('Value ',a-10)"
   ]
  },
  {
   "cell_type": "code",
   "execution_count": 103,
   "metadata": {
    "scrolled": true
   },
   "outputs": [
    {
     "name": "stdout",
     "output_type": "stream",
     "text": [
      "Value  215\n"
     ]
    }
   ],
   "source": [
    "minus_ten(225)"
   ]
  },
  {
   "cell_type": "code",
   "execution_count": 104,
   "metadata": {
    "scrolled": true
   },
   "outputs": [
    {
     "name": "stdout",
     "output_type": "stream",
     "text": [
      "Value  215\n"
     ]
    }
   ],
   "source": [
    "val = minus_ten(225)"
   ]
  },
  {
   "cell_type": "code",
   "execution_count": 107,
   "metadata": {
    "scrolled": true
   },
   "outputs": [
    {
     "name": "stdout",
     "output_type": "stream",
     "text": [
      "None\n"
     ]
    }
   ],
   "source": [
    "print(val)"
   ]
  },
  {
   "cell_type": "code",
   "execution_count": 139,
   "metadata": {},
   "outputs": [],
   "source": [
    "#Nested functions\n",
    "def wage(w_hour):\n",
    "    print('Entered the wage function')\n",
    "    return w_hour*25\n",
    "\n",
    "def with_bouns(w):\n",
    "    print('Entered the bonus function')\n",
    "    return wage(w)+50"
   ]
  },
  {
   "cell_type": "code",
   "execution_count": 140,
   "metadata": {
    "scrolled": false
   },
   "outputs": [
    {
     "name": "stdout",
     "output_type": "stream",
     "text": [
      "Entered the wage function\n"
     ]
    },
    {
     "data": {
      "text/plain": [
       "200"
      ]
     },
     "execution_count": 140,
     "metadata": {},
     "output_type": "execute_result"
    }
   ],
   "source": [
    "wage(8)"
   ]
  },
  {
   "cell_type": "code",
   "execution_count": 141,
   "metadata": {},
   "outputs": [
    {
     "name": "stdout",
     "output_type": "stream",
     "text": [
      "Entered the bonus function\n",
      "Entered the wage function\n"
     ]
    },
    {
     "data": {
      "text/plain": [
       "250"
      ]
     },
     "execution_count": 141,
     "metadata": {},
     "output_type": "execute_result"
    }
   ],
   "source": [
    "with_bouns(8)"
   ]
  },
  {
   "cell_type": "code",
   "execution_count": null,
   "metadata": {},
   "outputs": [],
   "source": [
    "Write a function to check if two lists have equal length, \n",
    "If yes return the length or else print they are not equal "
   ]
  },
  {
   "cell_type": "code",
   "execution_count": 132,
   "metadata": {},
   "outputs": [],
   "source": [
    "a = [12,35,56]\n",
    "b = [90,10,45]"
   ]
  },
  {
   "cell_type": "code",
   "execution_count": 133,
   "metadata": {},
   "outputs": [],
   "source": [
    "def check_length(a,b):\n",
    "    \n",
    "    if len(a)==len(b):\n",
    "        length = len(a)\n",
    "    else:\n",
    "        length = \"They do not have equal length\"\n",
    "    \n",
    "    return length"
   ]
  },
  {
   "cell_type": "code",
   "execution_count": 134,
   "metadata": {
    "scrolled": true
   },
   "outputs": [
    {
     "data": {
      "text/plain": [
       "3"
      ]
     },
     "execution_count": 134,
     "metadata": {},
     "output_type": "execute_result"
    }
   ],
   "source": [
    "check_length(a,b)"
   ]
  },
  {
   "cell_type": "code",
   "execution_count": 142,
   "metadata": {},
   "outputs": [],
   "source": [
    "my_list = [1,2,3,4,5]"
   ]
  },
  {
   "cell_type": "code",
   "execution_count": 143,
   "metadata": {},
   "outputs": [
    {
     "data": {
      "text/plain": [
       "list"
      ]
     },
     "execution_count": 143,
     "metadata": {},
     "output_type": "execute_result"
    }
   ],
   "source": [
    "type(my_list)"
   ]
  },
  {
   "cell_type": "code",
   "execution_count": null,
   "metadata": {},
   "outputs": [],
   "source": [
    "my_list."
   ]
  },
  {
   "cell_type": "code",
   "execution_count": 145,
   "metadata": {},
   "outputs": [],
   "source": [
    "class SampleClass:  \n",
    "    pass"
   ]
  },
  {
   "cell_type": "code",
   "execution_count": 146,
   "metadata": {},
   "outputs": [],
   "source": [
    "s1 = SampleClass()"
   ]
  },
  {
   "cell_type": "code",
   "execution_count": 147,
   "metadata": {},
   "outputs": [
    {
     "data": {
      "text/plain": [
       "__main__.SampleClass"
      ]
     },
     "execution_count": 147,
     "metadata": {},
     "output_type": "execute_result"
    }
   ],
   "source": [
    "type(s1)"
   ]
  },
  {
   "cell_type": "code",
   "execution_count": 156,
   "metadata": {},
   "outputs": [],
   "source": [
    "class MobilePhone():\n",
    "    \n",
    "    def __init__(self,Price,Model): #acts as constructor\n",
    "                                    #constructor is something which activates an object\n",
    "        self.m = Model\n",
    "        self.p = Price"
   ]
  },
  {
   "cell_type": "code",
   "execution_count": 157,
   "metadata": {
    "collapsed": true
   },
   "outputs": [
    {
     "ename": "TypeError",
     "evalue": "__init__() missing 2 required positional arguments: 'Price' and 'Model'",
     "output_type": "error",
     "traceback": [
      "\u001b[1;31m---------------------------------------------------------------------------\u001b[0m",
      "\u001b[1;31mTypeError\u001b[0m                                 Traceback (most recent call last)",
      "\u001b[1;32m<ipython-input-157-4617edb44a01>\u001b[0m in \u001b[0;36m<module>\u001b[1;34m\u001b[0m\n\u001b[1;32m----> 1\u001b[1;33m \u001b[0mm1\u001b[0m \u001b[1;33m=\u001b[0m \u001b[0mMobilePhone\u001b[0m\u001b[1;33m(\u001b[0m\u001b[1;33m)\u001b[0m\u001b[1;33m\u001b[0m\u001b[1;33m\u001b[0m\u001b[0m\n\u001b[0m",
      "\u001b[1;31mTypeError\u001b[0m: __init__() missing 2 required positional arguments: 'Price' and 'Model'"
     ]
    }
   ],
   "source": [
    "m1 = MobilePhone()"
   ]
  },
  {
   "cell_type": "code",
   "execution_count": 158,
   "metadata": {},
   "outputs": [],
   "source": [
    "m1 = MobilePhone(10000,'MI 9')"
   ]
  },
  {
   "cell_type": "code",
   "execution_count": 159,
   "metadata": {
    "collapsed": true
   },
   "outputs": [
    {
     "data": {
      "text/plain": [
       "'MI 9'"
      ]
     },
     "execution_count": 159,
     "metadata": {},
     "output_type": "execute_result"
    }
   ],
   "source": [
    "m1.m"
   ]
  },
  {
   "cell_type": "code",
   "execution_count": 160,
   "metadata": {
    "collapsed": true
   },
   "outputs": [
    {
     "data": {
      "text/plain": [
       "10000"
      ]
     },
     "execution_count": 160,
     "metadata": {},
     "output_type": "execute_result"
    }
   ],
   "source": [
    "m1.p"
   ]
  },
  {
   "cell_type": "code",
   "execution_count": 161,
   "metadata": {},
   "outputs": [],
   "source": [
    "m2 = MobilePhone(60000,'Samsung S 10')"
   ]
  },
  {
   "cell_type": "code",
   "execution_count": 180,
   "metadata": {},
   "outputs": [],
   "source": [
    "#objects = instances\n",
    "#variable = attribute\n",
    "#function = method\n",
    "\n",
    "class Bank:\n",
    "    \n",
    "    #class atrubute/object attribute\n",
    "    Bank_name = 'SBI' # class attribute\n",
    "    \n",
    "    def __init__(self,branch,employees):\n",
    "        \n",
    "        self.branch = branch\n",
    "        self.employees = employees\n",
    "        \n",
    "    def acc_opening(self):        \n",
    "        print(\"Bank has digitalized account opening process\")"
   ]
  },
  {
   "cell_type": "code",
   "execution_count": 181,
   "metadata": {},
   "outputs": [],
   "source": [
    "b1 = Bank('Andheri',10)\n",
    "b2 = Bank('Thane',12)"
   ]
  },
  {
   "cell_type": "code",
   "execution_count": 182,
   "metadata": {},
   "outputs": [
    {
     "name": "stdout",
     "output_type": "stream",
     "text": [
      "Bank has digitalized account opening process\n"
     ]
    }
   ],
   "source": [
    "b1.acc_opening()"
   ]
  },
  {
   "cell_type": "code",
   "execution_count": 167,
   "metadata": {},
   "outputs": [
    {
     "data": {
      "text/plain": [
       "10"
      ]
     },
     "execution_count": 167,
     "metadata": {},
     "output_type": "execute_result"
    }
   ],
   "source": [
    "b1.employees"
   ]
  },
  {
   "cell_type": "code",
   "execution_count": 169,
   "metadata": {},
   "outputs": [
    {
     "data": {
      "text/plain": [
       "'SBI'"
      ]
     },
     "execution_count": 169,
     "metadata": {},
     "output_type": "execute_result"
    }
   ],
   "source": [
    "b2.Bank_name"
   ]
  },
  {
   "cell_type": "code",
   "execution_count": 187,
   "metadata": {},
   "outputs": [],
   "source": [
    "#accessing a value from __init__ --> use self\n",
    "class Bank:\n",
    "    \n",
    "    Bank_name = 'SBI' # class attribute\n",
    "    \n",
    "    def __init__(self,branch,employees,acc):\n",
    "        \n",
    "        self.branch = branch\n",
    "        self.employees = employees\n",
    "        self.accounts = acc\n",
    "        \n",
    "    def acc_opening(self):        \n",
    "        print(\"Bank has digitalized account opening process and opened {} accounts\".format(self.accounts))"
   ]
  },
  {
   "cell_type": "code",
   "execution_count": 188,
   "metadata": {},
   "outputs": [],
   "source": [
    "b3 = Bank('Dadar',20,1200)"
   ]
  },
  {
   "cell_type": "code",
   "execution_count": 189,
   "metadata": {},
   "outputs": [
    {
     "name": "stdout",
     "output_type": "stream",
     "text": [
      "1200\n",
      "Bank has digitalized account opening process and opened 1200 accounts\n"
     ]
    }
   ],
   "source": [
    "print(b3.accounts)\n",
    "b3.acc_opening()"
   ]
  },
  {
   "cell_type": "code",
   "execution_count": 190,
   "metadata": {},
   "outputs": [
    {
     "data": {
      "text/plain": [
       "20"
      ]
     },
     "execution_count": 190,
     "metadata": {},
     "output_type": "execute_result"
    }
   ],
   "source": [
    "b3.employees"
   ]
  },
  {
   "cell_type": "code",
   "execution_count": 193,
   "metadata": {},
   "outputs": [],
   "source": [
    "#passing a value in a method from outside --> no need to use self\n",
    "class Bank:\n",
    "    \n",
    "    Bank_name = 'SBI' # class attribute\n",
    "    \n",
    "    def __init__(self,branch,employees):\n",
    "        \n",
    "        self.branch = branch\n",
    "        self.employees = employees\n",
    "        \n",
    "    def acc_opening(self,accounts):        \n",
    "        print(\"Bank has digitalized account opening process and opened {} accounts\".format(accounts))"
   ]
  },
  {
   "cell_type": "code",
   "execution_count": 194,
   "metadata": {},
   "outputs": [],
   "source": [
    "b5 = Bank('Churchgate',25)"
   ]
  },
  {
   "cell_type": "code",
   "execution_count": 196,
   "metadata": {},
   "outputs": [
    {
     "name": "stdout",
     "output_type": "stream",
     "text": [
      "Bank has digitalized account opening process and opened 200 accounts\n"
     ]
    }
   ],
   "source": [
    "b5.acc_opening(200)"
   ]
  },
  {
   "cell_type": "code",
   "execution_count": 198,
   "metadata": {},
   "outputs": [],
   "source": [
    "class circle:\n",
    "    \n",
    "    pi = 3.14\n",
    "    \n",
    "    def __init__(self,radius=1):\n",
    "        self.radius = radius\n",
    "        \n",
    "    def perimeter(self):\n",
    "        print('Circumference of the Circle is :  ',2*self.pi*self.radius)"
   ]
  },
  {
   "cell_type": "code",
   "execution_count": 199,
   "metadata": {},
   "outputs": [
    {
     "name": "stdout",
     "output_type": "stream",
     "text": [
      "Circumference of the Circle is :   6.28\n"
     ]
    }
   ],
   "source": [
    "c1 = circle()\n",
    "c1.perimeter()"
   ]
  },
  {
   "cell_type": "code",
   "execution_count": 200,
   "metadata": {},
   "outputs": [
    {
     "name": "stdout",
     "output_type": "stream",
     "text": [
      "Circumference of the Circle is :   62.800000000000004\n"
     ]
    }
   ],
   "source": [
    "c2 = circle(10)\n",
    "c2.perimeter()"
   ]
  },
  {
   "cell_type": "code",
   "execution_count": 202,
   "metadata": {},
   "outputs": [
    {
     "data": {
      "text/plain": [
       "8.0"
      ]
     },
     "execution_count": 202,
     "metadata": {},
     "output_type": "execute_result"
    }
   ],
   "source": [
    "64**0.5"
   ]
  },
  {
   "cell_type": "markdown",
   "metadata": {},
   "source": [
    "Write a program which has a class 'Calculate' and it does two mathematical operations\n",
    "\n",
    "Calculates the distance between two input data points (x1,y1) and (x2,y2)\n",
    "\n",
    "Calculates slope between two input data points (x1,y1) and (x2,y2)"
   ]
  },
  {
   "cell_type": "code",
   "execution_count": 204,
   "metadata": {},
   "outputs": [],
   "source": [
    "x1y1 = (3,4)"
   ]
  },
  {
   "cell_type": "code",
   "execution_count": 205,
   "metadata": {},
   "outputs": [],
   "source": [
    "x,y = x1y1"
   ]
  },
  {
   "cell_type": "code",
   "execution_count": 207,
   "metadata": {},
   "outputs": [
    {
     "data": {
      "text/plain": [
       "4"
      ]
     },
     "execution_count": 207,
     "metadata": {},
     "output_type": "execute_result"
    }
   ],
   "source": [
    "y"
   ]
  },
  {
   "cell_type": "code",
   "execution_count": null,
   "metadata": {},
   "outputs": [],
   "source": []
  },
  {
   "cell_type": "code",
   "execution_count": null,
   "metadata": {},
   "outputs": [],
   "source": []
  },
  {
   "cell_type": "code",
   "execution_count": null,
   "metadata": {},
   "outputs": [],
   "source": [
    "x1 = x1y1[0]"
   ]
  },
  {
   "cell_type": "code",
   "execution_count": null,
   "metadata": {},
   "outputs": [],
   "source": [
    "y1 = x1y1[1]"
   ]
  },
  {
   "cell_type": "code",
   "execution_count": null,
   "metadata": {},
   "outputs": [],
   "source": [
    "y1"
   ]
  },
  {
   "cell_type": "code",
   "execution_count": 208,
   "metadata": {},
   "outputs": [],
   "source": [
    "class calculate():\n",
    "    \n",
    "    def __init__(self,x1y1,x2y2):\n",
    "        self.x1y1 = x1y1 # ---- (-1,12)\n",
    "        self.x2y2 = x2y2 # ----- (22,10)\n",
    "        \n",
    "    def calc_distanc(self):\n",
    "        x1,y1 = self.x1y1\n",
    "        x2,y2 = self.x2y2\n",
    "        \n",
    "        return ((y2-y1)**2 + (x2-x1)**2)**0.5\n",
    "\n",
    "    def calc_slope(self):\n",
    "        x1,y1 = self.x1y1\n",
    "        x2,y2 = self.x2y2\n",
    "        \n",
    "        return (y2-y1)/(x2-x1)"
   ]
  },
  {
   "cell_type": "code",
   "execution_count": 209,
   "metadata": {},
   "outputs": [],
   "source": [
    "x1y1 = (-1,12)\n",
    "x2y2 = (22,10)\n",
    "\n",
    "obj1 = calculate(x1y1,x2y2)"
   ]
  },
  {
   "cell_type": "code",
   "execution_count": 210,
   "metadata": {},
   "outputs": [
    {
     "data": {
      "text/plain": [
       "23.08679276123039"
      ]
     },
     "execution_count": 210,
     "metadata": {},
     "output_type": "execute_result"
    }
   ],
   "source": [
    "obj1.calc_distanc()"
   ]
  },
  {
   "cell_type": "code",
   "execution_count": 211,
   "metadata": {},
   "outputs": [
    {
     "data": {
      "text/plain": [
       "-0.08695652173913043"
      ]
     },
     "execution_count": 211,
     "metadata": {},
     "output_type": "execute_result"
    }
   ],
   "source": [
    "obj1.calc_slope()"
   ]
  },
  {
   "cell_type": "code",
   "execution_count": 212,
   "metadata": {},
   "outputs": [],
   "source": [
    "import numpy as np\n",
    "import pandas as pd"
   ]
  },
  {
   "cell_type": "code",
   "execution_count": 218,
   "metadata": {
    "collapsed": true
   },
   "outputs": [
    {
     "data": {
      "text/html": [
       "<div>\n",
       "<style scoped>\n",
       "    .dataframe tbody tr th:only-of-type {\n",
       "        vertical-align: middle;\n",
       "    }\n",
       "\n",
       "    .dataframe tbody tr th {\n",
       "        vertical-align: top;\n",
       "    }\n",
       "\n",
       "    .dataframe thead th {\n",
       "        text-align: right;\n",
       "    }\n",
       "</style>\n",
       "<table border=\"1\" class=\"dataframe\">\n",
       "  <thead>\n",
       "    <tr style=\"text-align: right;\">\n",
       "      <th></th>\n",
       "      <th>Date</th>\n",
       "      <th>Time</th>\n",
       "      <th>Latitude</th>\n",
       "      <th>Longitude</th>\n",
       "      <th>Type</th>\n",
       "      <th>Depth</th>\n",
       "      <th>Depth Error</th>\n",
       "      <th>Depth Seismic Stations</th>\n",
       "      <th>Magnitude</th>\n",
       "      <th>Magnitude Type</th>\n",
       "      <th>...</th>\n",
       "      <th>Magnitude Seismic Stations</th>\n",
       "      <th>Azimuthal Gap</th>\n",
       "      <th>Horizontal Distance</th>\n",
       "      <th>Horizontal Error</th>\n",
       "      <th>Root Mean Square</th>\n",
       "      <th>ID</th>\n",
       "      <th>Source</th>\n",
       "      <th>Location Source</th>\n",
       "      <th>Magnitude Source</th>\n",
       "      <th>Status</th>\n",
       "    </tr>\n",
       "  </thead>\n",
       "  <tbody>\n",
       "    <tr>\n",
       "      <th>0</th>\n",
       "      <td>01/02/1965</td>\n",
       "      <td>13:44:18</td>\n",
       "      <td>19.2460</td>\n",
       "      <td>145.6160</td>\n",
       "      <td>Earthquake</td>\n",
       "      <td>131.60</td>\n",
       "      <td>NaN</td>\n",
       "      <td>NaN</td>\n",
       "      <td>6.0</td>\n",
       "      <td>MW</td>\n",
       "      <td>...</td>\n",
       "      <td>NaN</td>\n",
       "      <td>NaN</td>\n",
       "      <td>NaN</td>\n",
       "      <td>NaN</td>\n",
       "      <td>NaN</td>\n",
       "      <td>ISCGEM860706</td>\n",
       "      <td>ISCGEM</td>\n",
       "      <td>ISCGEM</td>\n",
       "      <td>ISCGEM</td>\n",
       "      <td>Automatic</td>\n",
       "    </tr>\n",
       "    <tr>\n",
       "      <th>1</th>\n",
       "      <td>01/04/1965</td>\n",
       "      <td>11:29:49</td>\n",
       "      <td>1.8630</td>\n",
       "      <td>127.3520</td>\n",
       "      <td>Earthquake</td>\n",
       "      <td>80.00</td>\n",
       "      <td>NaN</td>\n",
       "      <td>NaN</td>\n",
       "      <td>5.8</td>\n",
       "      <td>MW</td>\n",
       "      <td>...</td>\n",
       "      <td>NaN</td>\n",
       "      <td>NaN</td>\n",
       "      <td>NaN</td>\n",
       "      <td>NaN</td>\n",
       "      <td>NaN</td>\n",
       "      <td>ISCGEM860737</td>\n",
       "      <td>ISCGEM</td>\n",
       "      <td>ISCGEM</td>\n",
       "      <td>ISCGEM</td>\n",
       "      <td>Automatic</td>\n",
       "    </tr>\n",
       "    <tr>\n",
       "      <th>2</th>\n",
       "      <td>01/05/1965</td>\n",
       "      <td>18:05:58</td>\n",
       "      <td>-20.5790</td>\n",
       "      <td>-173.9720</td>\n",
       "      <td>Earthquake</td>\n",
       "      <td>20.00</td>\n",
       "      <td>NaN</td>\n",
       "      <td>NaN</td>\n",
       "      <td>6.2</td>\n",
       "      <td>MW</td>\n",
       "      <td>...</td>\n",
       "      <td>NaN</td>\n",
       "      <td>NaN</td>\n",
       "      <td>NaN</td>\n",
       "      <td>NaN</td>\n",
       "      <td>NaN</td>\n",
       "      <td>ISCGEM860762</td>\n",
       "      <td>ISCGEM</td>\n",
       "      <td>ISCGEM</td>\n",
       "      <td>ISCGEM</td>\n",
       "      <td>Automatic</td>\n",
       "    </tr>\n",
       "    <tr>\n",
       "      <th>3</th>\n",
       "      <td>01/08/1965</td>\n",
       "      <td>18:49:43</td>\n",
       "      <td>-59.0760</td>\n",
       "      <td>-23.5570</td>\n",
       "      <td>Earthquake</td>\n",
       "      <td>15.00</td>\n",
       "      <td>NaN</td>\n",
       "      <td>NaN</td>\n",
       "      <td>5.8</td>\n",
       "      <td>MW</td>\n",
       "      <td>...</td>\n",
       "      <td>NaN</td>\n",
       "      <td>NaN</td>\n",
       "      <td>NaN</td>\n",
       "      <td>NaN</td>\n",
       "      <td>NaN</td>\n",
       "      <td>ISCGEM860856</td>\n",
       "      <td>ISCGEM</td>\n",
       "      <td>ISCGEM</td>\n",
       "      <td>ISCGEM</td>\n",
       "      <td>Automatic</td>\n",
       "    </tr>\n",
       "    <tr>\n",
       "      <th>4</th>\n",
       "      <td>01/09/1965</td>\n",
       "      <td>13:32:50</td>\n",
       "      <td>11.9380</td>\n",
       "      <td>126.4270</td>\n",
       "      <td>Earthquake</td>\n",
       "      <td>15.00</td>\n",
       "      <td>NaN</td>\n",
       "      <td>NaN</td>\n",
       "      <td>5.8</td>\n",
       "      <td>MW</td>\n",
       "      <td>...</td>\n",
       "      <td>NaN</td>\n",
       "      <td>NaN</td>\n",
       "      <td>NaN</td>\n",
       "      <td>NaN</td>\n",
       "      <td>NaN</td>\n",
       "      <td>ISCGEM860890</td>\n",
       "      <td>ISCGEM</td>\n",
       "      <td>ISCGEM</td>\n",
       "      <td>ISCGEM</td>\n",
       "      <td>Automatic</td>\n",
       "    </tr>\n",
       "    <tr>\n",
       "      <th>...</th>\n",
       "      <td>...</td>\n",
       "      <td>...</td>\n",
       "      <td>...</td>\n",
       "      <td>...</td>\n",
       "      <td>...</td>\n",
       "      <td>...</td>\n",
       "      <td>...</td>\n",
       "      <td>...</td>\n",
       "      <td>...</td>\n",
       "      <td>...</td>\n",
       "      <td>...</td>\n",
       "      <td>...</td>\n",
       "      <td>...</td>\n",
       "      <td>...</td>\n",
       "      <td>...</td>\n",
       "      <td>...</td>\n",
       "      <td>...</td>\n",
       "      <td>...</td>\n",
       "      <td>...</td>\n",
       "      <td>...</td>\n",
       "      <td>...</td>\n",
       "    </tr>\n",
       "    <tr>\n",
       "      <th>23407</th>\n",
       "      <td>12/28/2016</td>\n",
       "      <td>08:22:12</td>\n",
       "      <td>38.3917</td>\n",
       "      <td>-118.8941</td>\n",
       "      <td>Earthquake</td>\n",
       "      <td>12.30</td>\n",
       "      <td>1.2</td>\n",
       "      <td>40.0</td>\n",
       "      <td>5.6</td>\n",
       "      <td>ML</td>\n",
       "      <td>...</td>\n",
       "      <td>18.0</td>\n",
       "      <td>42.47</td>\n",
       "      <td>0.120</td>\n",
       "      <td>NaN</td>\n",
       "      <td>0.1898</td>\n",
       "      <td>NN00570710</td>\n",
       "      <td>NN</td>\n",
       "      <td>NN</td>\n",
       "      <td>NN</td>\n",
       "      <td>Reviewed</td>\n",
       "    </tr>\n",
       "    <tr>\n",
       "      <th>23408</th>\n",
       "      <td>12/28/2016</td>\n",
       "      <td>09:13:47</td>\n",
       "      <td>38.3777</td>\n",
       "      <td>-118.8957</td>\n",
       "      <td>Earthquake</td>\n",
       "      <td>8.80</td>\n",
       "      <td>2.0</td>\n",
       "      <td>33.0</td>\n",
       "      <td>5.5</td>\n",
       "      <td>ML</td>\n",
       "      <td>...</td>\n",
       "      <td>18.0</td>\n",
       "      <td>48.58</td>\n",
       "      <td>0.129</td>\n",
       "      <td>NaN</td>\n",
       "      <td>0.2187</td>\n",
       "      <td>NN00570744</td>\n",
       "      <td>NN</td>\n",
       "      <td>NN</td>\n",
       "      <td>NN</td>\n",
       "      <td>Reviewed</td>\n",
       "    </tr>\n",
       "    <tr>\n",
       "      <th>23409</th>\n",
       "      <td>12/28/2016</td>\n",
       "      <td>12:38:51</td>\n",
       "      <td>36.9179</td>\n",
       "      <td>140.4262</td>\n",
       "      <td>Earthquake</td>\n",
       "      <td>10.00</td>\n",
       "      <td>1.8</td>\n",
       "      <td>NaN</td>\n",
       "      <td>5.9</td>\n",
       "      <td>MWW</td>\n",
       "      <td>...</td>\n",
       "      <td>NaN</td>\n",
       "      <td>91.00</td>\n",
       "      <td>0.992</td>\n",
       "      <td>4.8</td>\n",
       "      <td>1.5200</td>\n",
       "      <td>US10007NAF</td>\n",
       "      <td>US</td>\n",
       "      <td>US</td>\n",
       "      <td>US</td>\n",
       "      <td>Reviewed</td>\n",
       "    </tr>\n",
       "    <tr>\n",
       "      <th>23410</th>\n",
       "      <td>12/29/2016</td>\n",
       "      <td>22:30:19</td>\n",
       "      <td>-9.0283</td>\n",
       "      <td>118.6639</td>\n",
       "      <td>Earthquake</td>\n",
       "      <td>79.00</td>\n",
       "      <td>1.8</td>\n",
       "      <td>NaN</td>\n",
       "      <td>6.3</td>\n",
       "      <td>MWW</td>\n",
       "      <td>...</td>\n",
       "      <td>NaN</td>\n",
       "      <td>26.00</td>\n",
       "      <td>3.553</td>\n",
       "      <td>6.0</td>\n",
       "      <td>1.4300</td>\n",
       "      <td>US10007NL0</td>\n",
       "      <td>US</td>\n",
       "      <td>US</td>\n",
       "      <td>US</td>\n",
       "      <td>Reviewed</td>\n",
       "    </tr>\n",
       "    <tr>\n",
       "      <th>23411</th>\n",
       "      <td>12/30/2016</td>\n",
       "      <td>20:08:28</td>\n",
       "      <td>37.3973</td>\n",
       "      <td>141.4103</td>\n",
       "      <td>Earthquake</td>\n",
       "      <td>11.94</td>\n",
       "      <td>2.2</td>\n",
       "      <td>NaN</td>\n",
       "      <td>5.5</td>\n",
       "      <td>MB</td>\n",
       "      <td>...</td>\n",
       "      <td>428.0</td>\n",
       "      <td>97.00</td>\n",
       "      <td>0.681</td>\n",
       "      <td>4.5</td>\n",
       "      <td>0.9100</td>\n",
       "      <td>US10007NTD</td>\n",
       "      <td>US</td>\n",
       "      <td>US</td>\n",
       "      <td>US</td>\n",
       "      <td>Reviewed</td>\n",
       "    </tr>\n",
       "  </tbody>\n",
       "</table>\n",
       "<p>23412 rows × 21 columns</p>\n",
       "</div>"
      ],
      "text/plain": [
       "             Date      Time  Latitude  Longitude        Type   Depth  \\\n",
       "0      01/02/1965  13:44:18   19.2460   145.6160  Earthquake  131.60   \n",
       "1      01/04/1965  11:29:49    1.8630   127.3520  Earthquake   80.00   \n",
       "2      01/05/1965  18:05:58  -20.5790  -173.9720  Earthquake   20.00   \n",
       "3      01/08/1965  18:49:43  -59.0760   -23.5570  Earthquake   15.00   \n",
       "4      01/09/1965  13:32:50   11.9380   126.4270  Earthquake   15.00   \n",
       "...           ...       ...       ...        ...         ...     ...   \n",
       "23407  12/28/2016  08:22:12   38.3917  -118.8941  Earthquake   12.30   \n",
       "23408  12/28/2016  09:13:47   38.3777  -118.8957  Earthquake    8.80   \n",
       "23409  12/28/2016  12:38:51   36.9179   140.4262  Earthquake   10.00   \n",
       "23410  12/29/2016  22:30:19   -9.0283   118.6639  Earthquake   79.00   \n",
       "23411  12/30/2016  20:08:28   37.3973   141.4103  Earthquake   11.94   \n",
       "\n",
       "       Depth Error  Depth Seismic Stations  Magnitude Magnitude Type  ...  \\\n",
       "0              NaN                     NaN        6.0             MW  ...   \n",
       "1              NaN                     NaN        5.8             MW  ...   \n",
       "2              NaN                     NaN        6.2             MW  ...   \n",
       "3              NaN                     NaN        5.8             MW  ...   \n",
       "4              NaN                     NaN        5.8             MW  ...   \n",
       "...            ...                     ...        ...            ...  ...   \n",
       "23407          1.2                    40.0        5.6             ML  ...   \n",
       "23408          2.0                    33.0        5.5             ML  ...   \n",
       "23409          1.8                     NaN        5.9            MWW  ...   \n",
       "23410          1.8                     NaN        6.3            MWW  ...   \n",
       "23411          2.2                     NaN        5.5             MB  ...   \n",
       "\n",
       "       Magnitude Seismic Stations  Azimuthal Gap  Horizontal Distance  \\\n",
       "0                             NaN            NaN                  NaN   \n",
       "1                             NaN            NaN                  NaN   \n",
       "2                             NaN            NaN                  NaN   \n",
       "3                             NaN            NaN                  NaN   \n",
       "4                             NaN            NaN                  NaN   \n",
       "...                           ...            ...                  ...   \n",
       "23407                        18.0          42.47                0.120   \n",
       "23408                        18.0          48.58                0.129   \n",
       "23409                         NaN          91.00                0.992   \n",
       "23410                         NaN          26.00                3.553   \n",
       "23411                       428.0          97.00                0.681   \n",
       "\n",
       "       Horizontal Error  Root Mean Square            ID  Source  \\\n",
       "0                   NaN               NaN  ISCGEM860706  ISCGEM   \n",
       "1                   NaN               NaN  ISCGEM860737  ISCGEM   \n",
       "2                   NaN               NaN  ISCGEM860762  ISCGEM   \n",
       "3                   NaN               NaN  ISCGEM860856  ISCGEM   \n",
       "4                   NaN               NaN  ISCGEM860890  ISCGEM   \n",
       "...                 ...               ...           ...     ...   \n",
       "23407               NaN            0.1898    NN00570710      NN   \n",
       "23408               NaN            0.2187    NN00570744      NN   \n",
       "23409               4.8            1.5200    US10007NAF      US   \n",
       "23410               6.0            1.4300    US10007NL0      US   \n",
       "23411               4.5            0.9100    US10007NTD      US   \n",
       "\n",
       "      Location Source Magnitude Source     Status  \n",
       "0              ISCGEM           ISCGEM  Automatic  \n",
       "1              ISCGEM           ISCGEM  Automatic  \n",
       "2              ISCGEM           ISCGEM  Automatic  \n",
       "3              ISCGEM           ISCGEM  Automatic  \n",
       "4              ISCGEM           ISCGEM  Automatic  \n",
       "...               ...              ...        ...  \n",
       "23407              NN               NN   Reviewed  \n",
       "23408              NN               NN   Reviewed  \n",
       "23409              US               US   Reviewed  \n",
       "23410              US               US   Reviewed  \n",
       "23411              US               US   Reviewed  \n",
       "\n",
       "[23412 rows x 21 columns]"
      ]
     },
     "execution_count": 218,
     "metadata": {},
     "output_type": "execute_result"
    }
   ],
   "source": [
    "df = pd.read_csv(R\"C:/Users/skesh/Desktop/Data/Earthquakes.csv\")\n",
    "df"
   ]
  },
  {
   "cell_type": "code",
   "execution_count": 220,
   "metadata": {
    "collapsed": true
   },
   "outputs": [
    {
     "data": {
      "text/html": [
       "<div>\n",
       "<style scoped>\n",
       "    .dataframe tbody tr th:only-of-type {\n",
       "        vertical-align: middle;\n",
       "    }\n",
       "\n",
       "    .dataframe tbody tr th {\n",
       "        vertical-align: top;\n",
       "    }\n",
       "\n",
       "    .dataframe thead th {\n",
       "        text-align: right;\n",
       "    }\n",
       "</style>\n",
       "<table border=\"1\" class=\"dataframe\">\n",
       "  <thead>\n",
       "    <tr style=\"text-align: right;\">\n",
       "      <th></th>\n",
       "      <th>User Name</th>\n",
       "      <th>First Name</th>\n",
       "      <th>Last Name</th>\n",
       "      <th>User Lock Status</th>\n",
       "      <th>F-60</th>\n",
       "      <th>MMPV</th>\n",
       "      <th>MMRV</th>\n",
       "      <th>OB52</th>\n",
       "      <th>ACACACT</th>\n",
       "      <th>FBV0</th>\n",
       "      <th>F-02</th>\n",
       "      <th>F-04</th>\n",
       "      <th>F-07</th>\n",
       "      <th>FB01</th>\n",
       "      <th>FB08</th>\n",
       "      <th>FB10</th>\n",
       "      <th>FB50</th>\n",
       "      <th>FBR2</th>\n",
       "    </tr>\n",
       "  </thead>\n",
       "  <tbody>\n",
       "    <tr>\n",
       "      <th>0</th>\n",
       "      <td>MANJULAREDDY</td>\n",
       "      <td>Manjula</td>\n",
       "      <td>Neeloor Laxmana Reddy</td>\n",
       "      <td>0</td>\n",
       "      <td>NaN</td>\n",
       "      <td>NaN</td>\n",
       "      <td>NaN</td>\n",
       "      <td>8</td>\n",
       "      <td>NaN</td>\n",
       "      <td>1</td>\n",
       "      <td>NaN</td>\n",
       "      <td>NaN</td>\n",
       "      <td>NaN</td>\n",
       "      <td>4</td>\n",
       "      <td>NaN</td>\n",
       "      <td>1.0</td>\n",
       "      <td>2.0</td>\n",
       "      <td>NaN</td>\n",
       "    </tr>\n",
       "    <tr>\n",
       "      <th>1</th>\n",
       "      <td>MCHOKSI</td>\n",
       "      <td>Munish</td>\n",
       "      <td>Choksi</td>\n",
       "      <td>0</td>\n",
       "      <td>1.0</td>\n",
       "      <td>NaN</td>\n",
       "      <td>NaN</td>\n",
       "      <td>1</td>\n",
       "      <td>NaN</td>\n",
       "      <td>1</td>\n",
       "      <td>1.0</td>\n",
       "      <td>NaN</td>\n",
       "      <td>1.0</td>\n",
       "      <td>1</td>\n",
       "      <td>NaN</td>\n",
       "      <td>NaN</td>\n",
       "      <td>NaN</td>\n",
       "      <td>NaN</td>\n",
       "    </tr>\n",
       "    <tr>\n",
       "      <th>2</th>\n",
       "      <td>RUREN</td>\n",
       "      <td>Ren</td>\n",
       "      <td>Ruoxin</td>\n",
       "      <td>0</td>\n",
       "      <td>6.0</td>\n",
       "      <td>6.0</td>\n",
       "      <td>9.0</td>\n",
       "      <td>2</td>\n",
       "      <td>1.0</td>\n",
       "      <td>2</td>\n",
       "      <td>2.0</td>\n",
       "      <td>2.0</td>\n",
       "      <td>1.0</td>\n",
       "      <td>5</td>\n",
       "      <td>1.0</td>\n",
       "      <td>1.0</td>\n",
       "      <td>3.0</td>\n",
       "      <td>1.0</td>\n",
       "    </tr>\n",
       "    <tr>\n",
       "      <th>3</th>\n",
       "      <td>YOSUKE.SAITO</td>\n",
       "      <td>Saito</td>\n",
       "      <td>yosuke</td>\n",
       "      <td>0</td>\n",
       "      <td>NaN</td>\n",
       "      <td>NaN</td>\n",
       "      <td>NaN</td>\n",
       "      <td>1</td>\n",
       "      <td>NaN</td>\n",
       "      <td>1</td>\n",
       "      <td>NaN</td>\n",
       "      <td>NaN</td>\n",
       "      <td>NaN</td>\n",
       "      <td>1</td>\n",
       "      <td>NaN</td>\n",
       "      <td>NaN</td>\n",
       "      <td>NaN</td>\n",
       "      <td>1.0</td>\n",
       "    </tr>\n",
       "  </tbody>\n",
       "</table>\n",
       "</div>"
      ],
      "text/plain": [
       "      User Name First Name              Last Name  User Lock Status  F-60  \\\n",
       "0  MANJULAREDDY    Manjula  Neeloor Laxmana Reddy                 0   NaN   \n",
       "1       MCHOKSI     Munish                 Choksi                 0   1.0   \n",
       "2         RUREN        Ren                 Ruoxin                 0   6.0   \n",
       "3  YOSUKE.SAITO      Saito                 yosuke                 0   NaN   \n",
       "\n",
       "   MMPV  MMRV  OB52  ACACACT  FBV0  F-02  F-04  F-07  FB01  FB08  FB10  FB50  \\\n",
       "0   NaN   NaN     8      NaN     1   NaN   NaN   NaN     4   NaN   1.0   2.0   \n",
       "1   NaN   NaN     1      NaN     1   1.0   NaN   1.0     1   NaN   NaN   NaN   \n",
       "2   6.0   9.0     2      1.0     2   2.0   2.0   1.0     5   1.0   1.0   3.0   \n",
       "3   NaN   NaN     1      NaN     1   NaN   NaN   NaN     1   NaN   NaN   NaN   \n",
       "\n",
       "   FBR2  \n",
       "0   NaN  \n",
       "1   NaN  \n",
       "2   1.0  \n",
       "3   1.0  "
      ]
     },
     "execution_count": 220,
     "metadata": {},
     "output_type": "execute_result"
    }
   ],
   "source": [
    "df = pd.read_excel(r\"C:/Users/skesh/Desktop/sample_file.xlsx\",sheet_name=\"Detail_Sheet_F005\")\n",
    "df"
   ]
  },
  {
   "cell_type": "code",
   "execution_count": null,
   "metadata": {},
   "outputs": [],
   "source": []
  }
 ],
 "metadata": {
  "kernelspec": {
   "display_name": "Python 3",
   "language": "python",
   "name": "python3"
  },
  "language_info": {
   "codemirror_mode": {
    "name": "ipython",
    "version": 3
   },
   "file_extension": ".py",
   "mimetype": "text/x-python",
   "name": "python",
   "nbconvert_exporter": "python",
   "pygments_lexer": "ipython3",
   "version": "3.7.7"
  }
 },
 "nbformat": 4,
 "nbformat_minor": 4
}
